{
 "cells": [
  {
   "cell_type": "markdown",
   "metadata": {},
   "source": [
    "**Drill - Describing Data"
   ]
  },
  {
   "cell_type": "markdown",
   "metadata": {},
   "source": [
    "1. Greg was 14, Marcia was 12, Peter was 11, Jan was 10, Bobby was 8, and Cindy was 6 when they started playing the Brady kids on The Brady Bunch. Cousin Oliver was 8 years old when he joined the show. What are the mean, median, and mode of the kids' ages when they first appeared on the show? What are the variance, standard deviation, and standard error?"
   ]
  },
  {
   "cell_type": "markdown",
   "metadata": {},
   "source": [
    "A: mean = 9.8571428571428577, median = 10, mode = 8, var = 6.408163265306122, std = 2.7342623276105891,  standard error = 1.0334540197243192\n"
   ]
  },
  {
   "cell_type": "code",
   "execution_count": 30,
   "metadata": {},
   "outputs": [
    {
     "data": {
      "text/plain": [
       "1.0334540197243192"
      ]
     },
     "execution_count": 30,
     "metadata": {},
     "output_type": "execute_result"
    }
   ],
   "source": [
    "import numpy as np\n",
    "import pandas as pd\n",
    "import matplotlib.pyplot as plt\n",
    "import statistics as stat\n",
    "\n",
    "ages = [14, 12, 11, 10, 8, 6, 8]\n",
    "np.mean(ages)\n",
    "np.median(ages)\n",
    "stat.mode(ages)\n",
    "\n",
    "np.var(ages)\n",
    "np.std(ages, ddof= 1)\n",
    "np.std(ages, ddof = 1)/ np.sqrt(len(ages))"
   ]
  },
  {
   "cell_type": "markdown",
   "metadata": {},
   "source": [
    "2.  Using these estimates, if you had to choose only one estimate of central tendency and one estimate \n",
    "of variance to describe the data, which would you pick and why?"
   ]
  },
  {
   "cell_type": "markdown",
   "metadata": {},
   "source": [
    " A: 1 I believe in this case standard deviation and mean are the better choices to show the spread of the kid's ages. Variance does not seem to give a very good picture of the ages due to the high spread.\n",
    " Standard Error gives one the opposite idea and could make one believe their children's ages were closer than they actually were."
   ]
  },
  {
   "cell_type": "markdown",
   "metadata": {},
   "source": [
    "3. Next, Cindy has a birthday. Update your estimates- what changed, and what didn't?"
   ]
  },
  {
   "cell_type": "markdown",
   "metadata": {},
   "source": [
    "A: mean = 10.142857142857142, median = 10, mode = 8, var = 5.4285714285714288, std = 2.5166114784235831,  standard error = 0.95118973121134176\n",
    "The mode and median stayed the same and everything else changed due to the ages being slightly closer together and now average is a little higher."
   ]
  },
  {
   "cell_type": "code",
   "execution_count": 39,
   "metadata": {},
   "outputs": [
    {
     "name": "stdout",
     "output_type": "stream",
     "text": [
      "[14, 12, 11, 10, 8, 7, 8]\n",
      "[14, 12, 11, 10, 8, 7, 8]\n"
     ]
    },
    {
     "data": {
      "text/plain": [
       "0.95118973121134176"
      ]
     },
     "execution_count": 39,
     "metadata": {},
     "output_type": "execute_result"
    }
   ],
   "source": [
    "print(ages)\n",
    "ages[5]= 7\n",
    "print(ages)\n",
    "\n",
    "np.mean(ages)\n",
    "np.median(ages)\n",
    "stat.mode(ages)\n",
    "\n",
    "np.var(ages)\n",
    "np.std(ages, ddof= 1)\n",
    "np.std(ages, ddof = 1)/ np.sqrt(len(ages))"
   ]
  },
  {
   "cell_type": "markdown",
   "metadata": {},
   "source": [
    "4. Nobody likes Cousin Oliver. Maybe the network should have used an even younger actor. Replace Cousin Oliver with 1-year-old Jessica, then recalculate again. Does this change your choice of central tendency or variance estimation methods?"
   ]
  },
  {
   "cell_type": "markdown",
   "metadata": {},
   "source": [
    "A: mean = 9, median = 10, mode = None, var = 15.428571428571429,\n",
    "std = 4.2426406871192848, standard error = 1.6035674514745462\n",
    "With Jessica's low age greatly affecting the variance when compared with the others, mean and median now seem to be the better options. I would probably use median in this case since the single low age affects the mean. \n"
   ]
  },
  {
   "cell_type": "code",
   "execution_count": 46,
   "metadata": {},
   "outputs": [
    {
     "name": "stdout",
     "output_type": "stream",
     "text": [
      "[14, 12, 11, 10, 8, 7, 1]\n"
     ]
    },
    {
     "data": {
      "text/plain": [
       "1.6035674514745462"
      ]
     },
     "execution_count": 46,
     "metadata": {},
     "output_type": "execute_result"
    }
   ],
   "source": [
    "ages[6]= 1\n",
    "print(ages)\n",
    "\n",
    "np.mean(ages)\n",
    "np.median(ages)\n",
    "\n",
    "np.var(ages)\n",
    "np.std(ages, ddof= 1)\n",
    "np.std(ages, ddof = 1)/ np.sqrt(len(ages))"
   ]
  },
  {
   "cell_type": "markdown",
   "metadata": {},
   "source": [
    "5. On the 50th anniversary of The Brady Bunch, four different magazines asked their readers whether \n",
    "they were fans of the show. The answers were: TV Guide 20% fans Entertainment Weekly 23% fans \n",
    "Pop Culture Today 17% fans SciPhi Phanatic 5% fans \n",
    "Based on these numbers, what percentage of adult Americans would you estimate were Brady Bunch fans \n",
    "on the 50th anniversary of the show?"
   ]
  },
  {
   "cell_type": "markdown",
   "metadata": {},
   "source": [
    "A: Based on the data shown, 20%. I threw out the 5% SciFi magazine because of the magazine's genre and the show conflict with each other. Sadly, I highly doubt the 20% is accurate because I feel the majority of the people purchasing these magazines watch higher than average TV, therefore more likely to like any TV show over than the average person would. Having said that, I believe the data is skewed in favor of people liking the show, in reality I imagine the actual number is far lower.\n"
   ]
  },
  {
   "cell_type": "code",
   "execution_count": 48,
   "metadata": {},
   "outputs": [
    {
     "data": {
      "text/plain": [
       "20.0"
      ]
     },
     "execution_count": 48,
     "metadata": {},
     "output_type": "execute_result"
    }
   ],
   "source": [
    "mag_percent = [20, 23, 17, 5]\n",
    "np.mean(mag_percent)\n",
    "mag_percent_revised = [20, 23, 17]\n",
    "np.mean(mag_percent_revised)"
   ]
  }
 ],
 "metadata": {
  "kernelspec": {
   "display_name": "Python 3",
   "language": "python",
   "name": "python3"
  },
  "language_info": {
   "codemirror_mode": {
    "name": "ipython",
    "version": 3
   },
   "file_extension": ".py",
   "mimetype": "text/x-python",
   "name": "python",
   "nbconvert_exporter": "python",
   "pygments_lexer": "ipython3",
   "version": "3.6.3"
  }
 },
 "nbformat": 4,
 "nbformat_minor": 2
}
