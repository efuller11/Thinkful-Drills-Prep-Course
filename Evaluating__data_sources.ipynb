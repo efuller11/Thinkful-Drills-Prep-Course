{
 "cells": [
  {
   "cell_type": "markdown",
   "metadata": {},
   "source": [
    "### Evaluating data sources"
   ]
  },
  {
   "cell_type": "markdown",
   "metadata": {},
   "source": [
    "1. Data Source: Amsterdam availability data scraped from AirBnB on December 24th. Question: What are the popular neighborhoods in Amsterdam?"
   ]
  },
  {
   "cell_type": "markdown",
   "metadata": {},
   "source": [
    " *A: The data being collected during an extremely busy holiday could greatly\n",
    " influence the outcome of the data recieved. The data can be used to determine\n",
    " information that is applicable to that holiday in Amsterdam.  \n",
    " Most popular Christmas locations in Amsterdam? "
   ]
  },
  {
   "cell_type": "markdown",
   "metadata": {},
   "source": [
    "2. Data Source: Mental health services use on September 12, 2001 in San Francisco, CA and New York City, NY. Question: How do patterns of mental health service use vary between cities?"
   ]
  },
  {
   "cell_type": "markdown",
   "metadata": {},
   "source": [
    "A: One could use the data to probe the mental health\n",
    "rise in each city after the attack, it would probably help if data from the \n",
    "week prior was available in that test. Then one could see how much this attack effected people closest to it versus in a far away city.  "
   ]
  },
  {
   "cell_type": "markdown",
   "metadata": {},
   "source": [
    "3. Data Source: Armenian Pub Survey. Question: What are the most common reasons Armenians visit local pubs?"
   ]
  },
  {
   "cell_type": "markdown",
   "metadata": {},
   "source": [
    "A: The data shows almost all the people going to the pub to hang out with friends or Special Events/parties, this sounds like the same thing to me. I would also probably group birthdays and special events together as well, sadly after doing that, we might as well drop the column. The lack of other reasons leads me to believe that there might have been a problem with the options to choose from or lack of options in general. From the data shown, one could gather the amount people spent were willing to spend on pubs a month and the percentage of their imcome they are willing to spend on this habit. The data seems to be biased towards students around the ages of 18-21, this could also explain the the reasoning all being so similar."
   ]
  }
 ],
 "metadata": {
  "kernelspec": {
   "display_name": "Python 3",
   "language": "python",
   "name": "python3"
  },
  "language_info": {
   "codemirror_mode": {
    "name": "ipython",
    "version": 3
   },
   "file_extension": ".py",
   "mimetype": "text/x-python",
   "name": "python",
   "nbconvert_exporter": "python",
   "pygments_lexer": "ipython3",
   "version": "3.6.3"
  }
 },
 "nbformat": 4,
 "nbformat_minor": 2
}
